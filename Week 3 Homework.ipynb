{
 "cells": [
  {
   "attachments": {},
   "cell_type": "markdown",
   "id": "8537aa62",
   "metadata": {},
   "source": [
    "# What is an Algorithm -\n",
    "## Series of steps intended to solve a problem\n",
    "# What can a variable name NOT start with, two examples - \n",
    "## Variable names can only start with letters or an underscore. 5 and 6 are examples of what you cannot start with\n",
    "# What is a Semantic Error\n",
    "## Code is gramatically correct, but it doesn't make sense, and does not return the intended resut\n",
    "# What is the first rule of coding and debugging -\n",
    "## Regularly check and debug code\n",
    "# List 5 Python reserved words - \n",
    "## Print, List, and, or, if"
   ]
  },
  {
   "cell_type": "code",
   "execution_count": 22,
   "metadata": {},
   "outputs": [
    {
     "name": "stdout",
     "output_type": "stream",
     "text": [
      "My name is Adam Klima\n",
      "21\n",
      "n\n",
      "ing Data Analytics\n",
      "ing Data Analytics\n",
      "Hi my name is Adam, I am 5 foot, 11 inches and 34 old today.\n"
     ]
    }
   ],
   "source": [
    "\"\"\"Adam Klima\n",
    "Grilled Chicken Sandwich\n",
    "Scrum Master\"\"\"\n",
    "\n",
    "var = [1, 2, 3, 4] #list\n",
    "\n",
    "# print (var)\n",
    "\n",
    "var1 = 3 #int\n",
    "\n",
    "#print (var1)\n",
    "\n",
    "\n",
    "var2 = \"My name is Adam Klima\" #str\n",
    "\n",
    "a = len(var2)\n",
    "\n",
    "print (var2)\n",
    "print (a)  \n",
    "print (var2[3])\n",
    "\n",
    "\n",
    "var3 = (3.1) #float\n",
    "\n",
    "#print (var3)\n",
    "\n",
    "\n",
    "var4 = (\"fruit\", \"veggies\", \"protien\") #tuple\n",
    "\n",
    "#print (var4)\n",
    "\n",
    "\n",
    "savvy = 'Learning Data Analytics and Python is Awesome!'\n",
    "\n",
    "# 5:23\n",
    "print (savvy[5:23])\n",
    "\n",
    "\n",
    "savvy = 'Learning Data Analytics and Python is great!'\n",
    "\n",
    "# 5:23\n",
    "print (savvy[5:23])\n",
    "\"\"\"Create a new variable called savvy, and assign it the string with this phrase \"Learning Data Analytics and Python is Awesome!\"\n",
    "Return a range of characters that slices the above string from the beginning of \"ing\" up to before \"and\"\n",
    "Replace \"Awesome\" with \"great\" in the string\n",
    "Test and print the savvy string to see it contains \"Python\"\"\"\"\n",
    "#ask for clarification\n",
    "\n",
    "\n",
    "name, age, length = \"Adam\", \"34\", \"5 foot, 11 inches\"\n",
    "\n",
    "print (\"Hi my name is \" + name + \", I am \" + length + \" and \" + age + \" old today.\")"
   ]
  }
 ],
 "metadata": {
  "kernelspec": {
   "display_name": "Python 3",
   "language": "python",
   "name": "python3"
  },
  "language_info": {
   "codemirror_mode": {
    "name": "ipython",
    "version": 3
   },
   "file_extension": ".py",
   "mimetype": "text/x-python",
   "name": "python",
   "nbconvert_exporter": "python",
   "pygments_lexer": "ipython3",
   "version": "3.11.3"
  }
 },
 "nbformat": 4,
 "nbformat_minor": 5
}
