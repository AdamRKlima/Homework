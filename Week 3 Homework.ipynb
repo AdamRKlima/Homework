{
 "cells": [
  {
   "attachments": {},
   "cell_type": "markdown",
   "id": "8537aa62",
   "metadata": {},
   "source": [
    "# What is an Algorithm -\n",
    "\n",
    "# What can a variable name NOT start with, two examples -\n",
    "\n",
    "# What is a Semantic Error\n",
    "\n",
    "# What is the first rule of coding and debugging -\n",
    "\n",
    "# List 5 Python reserved words - Print, List, and, or, if"
   ]
  },
  {
   "cell_type": "code",
   "execution_count": 4,
   "metadata": {},
   "outputs": [
    {
     "name": "stdout",
     "output_type": "stream",
     "text": [
      "My name is Adam Klima\n",
      "n\n"
     ]
    }
   ],
   "source": [
    "\"\"\"Adam Klima\n",
    "Grilled Chicken Sandwich\n",
    "Scrum Master\"\"\"\n",
    "var = [1, 2, 3, 4] #list\n",
    "# print (var)\n",
    "\n",
    "var1 = 3 #int\n",
    "#print (var1)\n",
    "\n",
    "var2 = \"My name is Adam Klima\" #str\n",
    "print (var2) # \n",
    "print (var2[3])\n",
    "\n",
    "var3 = (3.1) #float\n",
    "#print (var3)\n",
    "\n",
    "var4 = (\"fruit\", \"veggies\", \"protien\") #tuple\n",
    "#print (var4)\n",
    "\n",
    "savvy = 'Learning Data Analytics and Python is Awesome!'\n",
    "print ()\n",
    "\n"
   ]
  }
 ],
 "metadata": {
  "kernelspec": {
   "display_name": "Python 3",
   "language": "python",
   "name": "python3"
  },
  "language_info": {
   "codemirror_mode": {
    "name": "ipython",
    "version": 3
   },
   "file_extension": ".py",
   "mimetype": "text/x-python",
   "name": "python",
   "nbconvert_exporter": "python",
   "pygments_lexer": "ipython3",
   "version": "3.11.3"
  }
 },
 "nbformat": 4,
 "nbformat_minor": 5
}
