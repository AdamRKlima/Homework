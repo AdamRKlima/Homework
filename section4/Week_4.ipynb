{
 "cells": [
  {
   "cell_type": "code",
   "execution_count": 12,
   "metadata": {},
   "outputs": [
    {
     "name": "stdout",
     "output_type": "stream",
     "text": [
      "Renting a care is more affordable\n"
     ]
    }
   ],
   "source": [
    "# 1 Create an if statement: if 'age' is greater than or equal to 25, print \"Renting a car is more affordable\", however if 'age' is less than 25, print \"Renting a car is very expensive.\"\n",
    "a = input(\"How old are you\")\n",
    "try:\n",
    "    age = int(a)\n",
    "    if age >= 25:\n",
    "        print (\"Renting a care is more affordable\")\n",
    "    elif age >= 18 :\n",
    "        print(\"Renting a car is very expensive\")\n",
    "except:\n",
    "    print(\"Please enter a number that is 18 or above\")\n"
   ]
  },
  {
   "cell_type": "code",
   "execution_count": 17,
   "metadata": {},
   "outputs": [
    {
     "name": "stdout",
     "output_type": "stream",
     "text": [
      "Renting a care is more affordable\n"
     ]
    }
   ],
   "source": [
    "# 2 Create an if statement: if 'age' is greater than or equal to 25, print \"Renting a car is more affordable\", however if 'age' is less than 25, print \"Renting a car is very expensive.\"\n",
    "a = input(\"How old are you\")\n",
    "try:\n",
    "    age = int(a)\n",
    "    if age >= 25:\n",
    "        print (\"Renting a care is more affordable\")\n",
    "    elif age >= 18 :\n",
    "        print(\"Renting a car is very expensive\")\n",
    "    else:\n",
    "        print(\"You cannot legally rent a car\")\n",
    "except:\n",
    "    print(\"Please enter a number\")\n"
   ]
  },
  {
   "cell_type": "code",
   "execution_count": 19,
   "metadata": {},
   "outputs": [
    {
     "name": "stdout",
     "output_type": "stream",
     "text": [
      "11\n"
     ]
    }
   ],
   "source": [
    "# 3 Loop over the following string to (1) count all the characters in the string and (2) print out all the vowels -- \"The quick brown fox jumps over the lazy dog\"\n",
    "var = \"The quick brown fox jumps over the lazy dog\"\n",
    "vow = [\"a\",'e','i','o','u']\n",
    "vow_count = 0\n",
    "for letter in var :\n",
    "    if letter in vow:\n",
    "        vow_count = vow_count+1\n",
    "print(vow_count)"
   ]
  },
  {
   "cell_type": "code",
   "execution_count": 25,
   "metadata": {},
   "outputs": [
    {
     "name": "stdout",
     "output_type": "stream",
     "text": [
      "trousers cerise\n",
      "trousers maple\n",
      "trousers fuchsia\n",
      "trousers aqua\n",
      "trousers gunmetal blueDark Sapphire\n",
      "trousers auburn\n",
      "trousers burnt sienna\n",
      "blouse cerise\n",
      "blouse maple\n",
      "blouse fuchsia\n",
      "blouse aqua\n",
      "blouse gunmetal blueDark Sapphire\n",
      "blouse auburn\n",
      "blouse burnt sienna\n",
      "bandana cerise\n",
      "bandana maple\n",
      "bandana fuchsia\n",
      "bandana aqua\n",
      "bandana gunmetal blueDark Sapphire\n",
      "bandana auburn\n",
      "bandana burnt sienna\n",
      "cumber band cerise\n",
      "cumber band maple\n",
      "cumber band fuchsia\n",
      "cumber band aqua\n",
      "cumber band gunmetal blueDark Sapphire\n",
      "cumber band auburn\n",
      "cumber band burnt sienna\n",
      "blazer cerise\n",
      "blazer maple\n",
      "blazer fuchsia\n",
      "blazer aqua\n",
      "blazer gunmetal blueDark Sapphire\n",
      "blazer auburn\n",
      "blazer burnt sienna\n",
      "vest cerise\n",
      "vest maple\n",
      "vest fuchsia\n",
      "vest aqua\n",
      "vest gunmetal blueDark Sapphire\n",
      "vest auburn\n",
      "vest burnt sienna\n",
      "french beret cerise\n",
      "french beret maple\n",
      "french beret fuchsia\n",
      "french beret aqua\n",
      "french beret gunmetal blueDark Sapphire\n",
      "french beret auburn\n",
      "french beret burnt sienna\n",
      "scarf cerise\n",
      "scarf maple\n",
      "scarf fuchsia\n",
      "scarf aqua\n",
      "scarf gunmetal blueDark Sapphire\n",
      "scarf auburn\n",
      "scarf burnt sienna\n",
      "stole cerise\n",
      "stole maple\n",
      "stole fuchsia\n",
      "stole aqua\n",
      "stole gunmetal blueDark Sapphire\n",
      "stole auburn\n",
      "stole burnt sienna\n"
     ]
    }
   ],
   "source": [
    "\"\"\"Write a nested loop that prints out every piece of clothing from the couture list, in every fashionable color from\n",
    "the panettone set: couture = [\"trousers\", \"blouse\", \"bandana\", \"cumber band\", \"blazer\", \"vest\", \"french beret\",\n",
    "\"scarf\", \"stole\"] and panettone = {\"cerise\", \"fuchsia\", \"aqua\", \"maple\", \"auburn\", \"burnt sienna\", \"gunmetal blue\"\n",
    "\"Dark Sapphire\"}\"\"\"\n",
    "\n",
    "\n",
    "couture = [\"trousers\", \"blouse\", \"bandana\", \"cumber band\", \"blazer\", \"vest\", \"french beret\",\n",
    "\"scarf\", \"stole\"]\n",
    "\n",
    "panettone = {\"cerise\", \"fuchsia\", \"aqua\", \"maple\", \"auburn\", \"burnt sienna\", \"gunmetal blue\"\n",
    "\"Dark Sapphire\"}\n",
    "\n",
    "\n",
    "\n",
    "for clothes in couture:\n",
    "    for color in panettone:\n",
    "        print(clothes,color)"
   ]
  }
 ],
 "metadata": {
  "kernelspec": {
   "display_name": "Python 3",
   "language": "python",
   "name": "python3"
  },
  "language_info": {
   "codemirror_mode": {
    "name": "ipython",
    "version": 3
   },
   "file_extension": ".py",
   "mimetype": "text/x-python",
   "name": "python",
   "nbconvert_exporter": "python",
   "pygments_lexer": "ipython3",
   "version": "3.11.3"
  },
  "orig_nbformat": 4
 },
 "nbformat": 4,
 "nbformat_minor": 2
}
