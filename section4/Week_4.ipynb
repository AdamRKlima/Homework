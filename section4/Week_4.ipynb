{
 "cells": [
  {
   "cell_type": "code",
   "execution_count": 12,
   "metadata": {},
   "outputs": [
    {
     "name": "stdout",
     "output_type": "stream",
     "text": [
      "Renting a care is more affordable\n"
     ]
    }
   ],
   "source": [
    "# 1 Create an if statement: if 'age' is greater than or equal to 25, print \"Renting a car is more affordable\", however if 'age' is less than 25, print \"Renting a car is very expensive.\"\n",
    "a = input(\"How old are you\")\n",
    "try:\n",
    "    age = int(a)\n",
    "    if age >= 25:\n",
    "        print (\"Renting a care is more affordable\")\n",
    "    elif age >= 18 :\n",
    "        print(\"Renting a car is very expensive\")\n",
    "except:\n",
    "    print(\"Please enter a number that is 18 or above\")\n"
   ]
  },
  {
   "cell_type": "code",
   "execution_count": 17,
   "metadata": {},
   "outputs": [
    {
     "name": "stdout",
     "output_type": "stream",
     "text": [
      "Renting a care is more affordable\n"
     ]
    }
   ],
   "source": [
    "# 2 Create an if statement: if 'age' is greater than or equal to 25, print \"Renting a car is more affordable\", however if 'age' is less than 25, print \"Renting a car is very expensive.\"\n",
    "a = input(\"How old are you\")\n",
    "try:\n",
    "    age = int(a)\n",
    "    if age >= 25:\n",
    "        print (\"Renting a care is more affordable\")\n",
    "    elif age >= 18 :\n",
    "        print(\"Renting a car is very expensive\")\n",
    "    else:\n",
    "        print(\"You cannot legally rent a car\")\n",
    "except:\n",
    "    print(\"Please enter a number\")\n"
   ]
  },
  {
   "cell_type": "code",
   "execution_count": 19,
   "metadata": {},
   "outputs": [
    {
     "name": "stdout",
     "output_type": "stream",
     "text": [
      "11\n"
     ]
    }
   ],
   "source": [
    "# 3 Loop over the following string to (1) count all the characters in the string and (2) print out all the vowels -- \"The quick brown fox jumps over the lazy dog\"\n",
    "var = \"The quick brown fox jumps over the lazy dog\"\n",
    "vow = [\"a\",'e','i','o','u']\n",
    "vow_count = 0\n",
    "for letter in var :\n",
    "    if letter in vow:\n",
    "        vow_count = vow_count+1\n",
    "print(vow_count)"
   ]
  },
  {
   "cell_type": "code",
   "execution_count": 25,
   "metadata": {},
   "outputs": [
    {
     "name": "stdout",
     "output_type": "stream",
     "text": [
      "trousers cerise\n",
      "trousers maple\n",
      "trousers fuchsia\n",
      "trousers aqua\n",
      "trousers gunmetal blueDark Sapphire\n",
      "trousers auburn\n",
      "trousers burnt sienna\n",
      "blouse cerise\n",
      "blouse maple\n",
      "blouse fuchsia\n",
      "blouse aqua\n",
      "blouse gunmetal blueDark Sapphire\n",
      "blouse auburn\n",
      "blouse burnt sienna\n",
      "bandana cerise\n",
      "bandana maple\n",
      "bandana fuchsia\n",
      "bandana aqua\n",
      "bandana gunmetal blueDark Sapphire\n",
      "bandana auburn\n",
      "bandana burnt sienna\n",
      "cumber band cerise\n",
      "cumber band maple\n",
      "cumber band fuchsia\n",
      "cumber band aqua\n",
      "cumber band gunmetal blueDark Sapphire\n",
      "cumber band auburn\n",
      "cumber band burnt sienna\n",
      "blazer cerise\n",
      "blazer maple\n",
      "blazer fuchsia\n",
      "blazer aqua\n",
      "blazer gunmetal blueDark Sapphire\n",
      "blazer auburn\n",
      "blazer burnt sienna\n",
      "vest cerise\n",
      "vest maple\n",
      "vest fuchsia\n",
      "vest aqua\n",
      "vest gunmetal blueDark Sapphire\n",
      "vest auburn\n",
      "vest burnt sienna\n",
      "french beret cerise\n",
      "french beret maple\n",
      "french beret fuchsia\n",
      "french beret aqua\n",
      "french beret gunmetal blueDark Sapphire\n",
      "french beret auburn\n",
      "french beret burnt sienna\n",
      "scarf cerise\n",
      "scarf maple\n",
      "scarf fuchsia\n",
      "scarf aqua\n",
      "scarf gunmetal blueDark Sapphire\n",
      "scarf auburn\n",
      "scarf burnt sienna\n",
      "stole cerise\n",
      "stole maple\n",
      "stole fuchsia\n",
      "stole aqua\n",
      "stole gunmetal blueDark Sapphire\n",
      "stole auburn\n",
      "stole burnt sienna\n"
     ]
    }
   ],
   "source": [
    "\"\"\"4 Write a nested loop that prints out every piece of clothing from the couture list, in every fashionable color from\n",
    "the panettone set: couture = [\"trousers\", \"blouse\", \"bandana\", \"cumber band\", \"blazer\", \"vest\", \"french beret\",\n",
    "\"scarf\", \"stole\"] and panettone = {\"cerise\", \"fuchsia\", \"aqua\", \"maple\", \"auburn\", \"burnt sienna\", \"gunmetal blue\"\n",
    "\"Dark Sapphire\"}\"\"\"\n",
    "\n",
    "\n",
    "couture = [\"trousers\", \"blouse\", \"bandana\", \"cumber band\", \"blazer\", \"vest\", \"french beret\",\n",
    "\"scarf\", \"stole\"]\n",
    "\n",
    "panettone = {\"cerise\", \"fuchsia\", \"aqua\", \"maple\", \"auburn\", \"burnt sienna\", \"gunmetal blue\"\n",
    "\"Dark Sapphire\"}\n",
    "\n",
    "\n",
    "\n",
    "for clothes in couture:\n",
    "    for color in panettone:\n",
    "        print(clothes,color)"
   ]
  },
  {
   "cell_type": "code",
   "execution_count": 6,
   "metadata": {},
   "outputs": [
    {
     "name": "stdout",
     "output_type": "stream",
     "text": [
      "4950\n"
     ]
    }
   ],
   "source": [
    "# 5 Use range as a loop to calculate the sum of all the numbers from 1 to 100\n",
    "count = range(100)\n",
    "tot = 0\n",
    "for num in count:\n",
    "    tot = tot + num\n",
    "print (tot)"
   ]
  },
  {
   "cell_type": "code",
   "execution_count": 8,
   "metadata": {},
   "outputs": [
    {
     "name": "stdout",
     "output_type": "stream",
     "text": [
      "banana\n"
     ]
    }
   ],
   "source": [
    "# 6 Print the second item in this fruits list. [\"apple\", \"banana\", \"cherry\"]\n",
    "list1=[\"apple\", \"banana\", \"cherry\"]\n",
    "print(list1[1])"
   ]
  },
  {
   "cell_type": "code",
   "execution_count": 9,
   "metadata": {},
   "outputs": [
    {
     "name": "stdout",
     "output_type": "stream",
     "text": [
      "['kiwi', 'banana', 'cherry']\n"
     ]
    }
   ],
   "source": [
    "# 7 Change the value from \"apple\" to \"kiwi\", in the fruits list. [\"apple\", \"banana\", \"cherry\"]\n",
    "list1[0]=\"kiwi\"\n",
    "# print(list1)"
   ]
  },
  {
   "cell_type": "code",
   "execution_count": 10,
   "metadata": {},
   "outputs": [
    {
     "name": "stdout",
     "output_type": "stream",
     "text": [
      "['apple', 'banana', 'cherry', 'orange']\n"
     ]
    }
   ],
   "source": [
    "# 8 Use the append method to add \"orange\" to the fruits list. [\"apple\", \"banana\", \"cherry\"]\n",
    "list1 = [\"apple\", \"banana\", \"cherry\"]\n",
    "list1.append(\"orange\")\n",
    "# print(list1)"
   ]
  },
  {
   "cell_type": "code",
   "execution_count": 11,
   "metadata": {},
   "outputs": [
    {
     "name": "stdout",
     "output_type": "stream",
     "text": [
      "['apple', 'lemon', 'banana', 'cherry']\n"
     ]
    }
   ],
   "source": [
    "# 9 Use the insert method to add \"lemon\" as the second item in the fruits list. [\"apple\", \"banana\", \"cherry\"]\n",
    "\n",
    "list1 = [\"apple\", \"banana\", \"cherry\"]\n",
    "list1.insert(1,\"lemon\")\n",
    "print(list1)"
   ]
  },
  {
   "cell_type": "code",
   "execution_count": 12,
   "metadata": {},
   "outputs": [
    {
     "data": {
      "text/plain": [
       "['apple', 'cherry']"
      ]
     },
     "execution_count": 12,
     "metadata": {},
     "output_type": "execute_result"
    }
   ],
   "source": [
    "# 10 Use the remove method to remove \"banana\" from the fruits list. [\"apple\", \"banana\", \"cherry\"]\n",
    "\n",
    "list1 = [\"apple\", \"banana\", \"cherry\"]\n",
    "list1.remove('banana')\n",
    "# list1"
   ]
  },
  {
   "cell_type": "code",
   "execution_count": 17,
   "metadata": {},
   "outputs": [
    {
     "name": "stdout",
     "output_type": "stream",
     "text": [
      "['kiwi', 'melon']\n"
     ]
    }
   ],
   "source": [
    "# 11 Use negative indexing to print the 3rd and 2nd to last items in the list. [\"apple\", \"banana\", \"cherry\", \"orange\", \"kiwi\", \"melon\", \"mango\"]\n",
    "\n",
    "list1=[\"apple\", \"banana\", \"cherry\", \"orange\", \"kiwi\", \"melon\", \"mango\"]\n",
    "print(list1[-3:-1])"
   ]
  },
  {
   "cell_type": "code",
   "execution_count": 18,
   "metadata": {},
   "outputs": [
    {
     "name": "stdout",
     "output_type": "stream",
     "text": [
      "['cherry', 'orange', 'kiwi']\n"
     ]
    }
   ],
   "source": [
    "# 12 Use a range of indexes to print the third, fourth, and fifth item in the list. [\"apple\", \"banana\", \"cherry\", \"orange\", \"kiwi\", \"melon\", \"mango\"]\n",
    "\n",
    "list1 =  [\"apple\", \"banana\", \"cherry\", \"orange\", \"kiwi\", \"melon\", \"mango\"]\n",
    "print(list1[2:5])"
   ]
  },
  {
   "cell_type": "code",
   "execution_count": 21,
   "metadata": {},
   "outputs": [
    {
     "name": "stdout",
     "output_type": "stream",
     "text": [
      "7\n"
     ]
    }
   ],
   "source": [
    "# 13 Use the correct syntax to print the number of items in the list. [\"apple\", \"banana\", \"cherry\", \"orange\", \"kiwi\", \"melon\", \"mango\"]\n",
    "\n",
    "list1 = [\"apple\", \"banana\", \"cherry\", \"orange\", \"kiwi\", \"melon\", \"mango\"]\n",
    "print(len(list1))"
   ]
  },
  {
   "cell_type": "code",
   "execution_count": 22,
   "metadata": {},
   "outputs": [
    {
     "name": "stdout",
     "output_type": "stream",
     "text": [
      "['orange', 'melon', 'mango', 'kiwi', 'cherry', 'banana', 'apple']\n"
     ]
    }
   ],
   "source": [
    "# 14 Use the correct syntax to sort this list in reverse order [\"apple\", \"banana\", \"cherry\", \"orange\", \"kiwi\", \"melon\", \"mango\"]\n",
    "\n",
    "list1=[\"apple\", \"banana\", \"cherry\", \"orange\", \"kiwi\", \"melon\", \"mango\"]\n",
    "list1.sort(reverse=True)\n",
    "print(list1)"
   ]
  },
  {
   "attachments": {},
   "cell_type": "markdown",
   "metadata": {},
   "source": [
    "### What does one need to do to use a module?\n",
    "#####\n",
    "### Name a Module (not the DateTime Nodule) we looked at and write a line or 2 of code as an example using this module.\n",
    "#####\n",
    "### What is a benefit of using Exception handling?\n",
    "#####\n",
    "### what are the 4 components used for Python Exception Handling?\n",
    "#####\n",
    "### NumPy arrays are like what Python data type?\n",
    "#####\n",
    "### What is one of the main benefits of using NumPy arrays.\n",
    "#####\n",
    "### What is one of the main requirements about the 'dtype' of NumPy arrays?\n",
    "#####\n",
    "### Of the 10 uses of NumPy, name 2.\n",
    "#####\n",
    "### Name one of the other libraries we'll use with NumPy?\n",
    "#####\n",
    "### What is the shape of NumPy arrays?\n",
    "#####\n",
    "### What is a Tensor?\n",
    "#####\n",
    "### Name a reason why it's better using NumPy for Data Analysis than using a Python List?\n",
    "#####\n",
    "### When creating an \"empty\" array, where do the elements come from?\n",
    "#####"
   ]
  }
 ],
 "metadata": {
  "kernelspec": {
   "display_name": "Python 3",
   "language": "python",
   "name": "python3"
  },
  "language_info": {
   "codemirror_mode": {
    "name": "ipython",
    "version": 3
   },
   "file_extension": ".py",
   "mimetype": "text/x-python",
   "name": "python",
   "nbconvert_exporter": "python",
   "pygments_lexer": "ipython3",
   "version": "3.11.3"
  },
  "orig_nbformat": 4
 },
 "nbformat": 4,
 "nbformat_minor": 2
}
