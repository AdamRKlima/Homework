{
 "cells": [
  {
   "cell_type": "markdown",
   "metadata": {},
   "source": [
    "### 1. What does Pandas stand for?\n",
    "#####\n",
    "### 2. What are the 2 collections used in Pandas?\n",
    "#####\n",
    "### 3. Name 4 things Pandas can do for us.\n",
    "#####\n",
    "### 4. To permanently sort a DataFrame, which keyword should one use with the `df.sort()` method?\n",
    "#####\n",
    "### 5. What is a CSV\n",
    "#####\n",
    "### 6. When cleaning data what values do we not like in our data?\n",
    "#####\n"
   ]
  }
 ],
 "metadata": {
  "kernelspec": {
   "display_name": "Python 3 (ipykernel)",
   "language": "python",
   "name": "python3"
  },
  "language_info": {
   "codemirror_mode": {
    "name": "ipython",
    "version": 3
   },
   "file_extension": ".py",
   "mimetype": "text/x-python",
   "name": "python",
   "nbconvert_exporter": "python",
   "pygments_lexer": "ipython3",
   "version": "3.11.3"
  }
 },
 "nbformat": 4,
 "nbformat_minor": 2
}
