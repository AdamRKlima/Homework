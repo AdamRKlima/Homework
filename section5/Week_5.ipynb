{
 "cells": [
  {
   "attachments": {},
   "cell_type": "markdown",
   "metadata": {},
   "source": [
    "### 1. What does Pandas stand for?\n",
    "##### It stands for either Panal Data or Python Data Analysis\n",
    "### 2. What are the 2 collections used in Pandas?\n",
    "##### Series and Dataframes\n",
    "### 3. Name 4 things Pandas can do for us.\n",
    "##### Pandas can load, manipulate, prepare, model and analyze \n",
    "### 4. To permanently sort a DataFrame, which keyword should one use with the `df.sort()` method?\n",
    "##### inplace=True\n",
    "### 5. What is a CSV\n",
    "##### A csv is a type of data file\n",
    "### 6. When cleaning data what values do we not like in our data?\n",
    "##### Null values\n"
   ]
  },
  {
   "cell_type": "code",
   "execution_count": 20,
   "metadata": {},
   "outputs": [
    {
     "name": "stdout",
     "output_type": "stream",
     "text": [
      "[[[0.32651573 0.09497481]\n",
      "  [0.26571413 0.05470751]\n",
      "  [0.92326718 0.21918041]]\n",
      "\n",
      " [[0.50726528 0.36727106]\n",
      "  [0.02845554 0.94780732]\n",
      "  [0.10281105 0.31656981]]]\n"
     ]
    }
   ],
   "source": [
    "# Do NOT do questions 10, 17, 18, 19.\n",
    "# 7 Import NumPy, use one of the NumPy methods and create an array with a shape of ... (2, 3, 2). You can use the reshape method -- .reshape()\n",
    "import numpy as np\n",
    "import pandas as pd\n",
    "a1=np.random.rand(2,3,2)\n",
    "print(a1)"
   ]
  },
  {
   "cell_type": "code",
   "execution_count": 21,
   "metadata": {},
   "outputs": [
    {
     "data": {
      "text/plain": [
       "array([ 0.,  4.,  8., 12., 16., 20.])"
      ]
     },
     "execution_count": 21,
     "metadata": {},
     "output_type": "execute_result"
    }
   ],
   "source": [
    "# 8 Use NumPy .linspace() to create an array with 6 linearly spaced values between 0 and 20\n",
    "a=np.linspace(0,20,num=6)\n",
    "a"
   ]
  },
  {
   "cell_type": "code",
   "execution_count": 22,
   "metadata": {},
   "outputs": [
    {
     "data": {
      "text/plain": [
       "array([ 0.,  4.,  8., 12., 16., 20.])"
      ]
     },
     "execution_count": 22,
     "metadata": {},
     "output_type": "execute_result"
    }
   ],
   "source": [
    "# 9 Make a Deep Copy of the above array\n",
    "import copy as cp\n",
    "b=cp.deepcopy(a)\n",
    "b"
   ]
  },
  {
   "cell_type": "code",
   "execution_count": 23,
   "metadata": {},
   "outputs": [
    {
     "name": "stdout",
     "output_type": "stream",
     "text": [
      "[[25 16]\n",
      " [11  2]\n",
      " [13  4]\n",
      " [ 7 81]\n",
      " [ 5  6]\n",
      " [11 12]]\n"
     ]
    }
   ],
   "source": [
    "# 11 Concatenate these 3 arrays into a new array named 'newArray'...\n",
    "a =np.array([[25, 16]])\n",
    "b=np.array([[11, 2], [13, 4]])\n",
    "c=np.array([[7, 81], [5, 6], [11, 12]])\n",
    "newArray=np.concatenate((a,b,c),axis=0)\n",
    "print(newArray)\n",
    "\n"
   ]
  },
  {
   "cell_type": "code",
   "execution_count": 24,
   "metadata": {},
   "outputs": [
    {
     "name": "stdout",
     "output_type": "stream",
     "text": [
      "[[16 25]\n",
      " [ 2 11]\n",
      " [ 4 13]\n",
      " [ 7 81]\n",
      " [ 5  6]\n",
      " [11 12]]\n"
     ]
    }
   ],
   "source": [
    "# 12 Sort 'newArray' in order into 'sortedArray'\n",
    "sortedArray=np.sort(newArray)\n",
    "print(sortedArray)"
   ]
  },
  {
   "cell_type": "code",
   "execution_count": 25,
   "metadata": {},
   "outputs": [
    {
     "data": {
      "text/plain": [
       "array([[[16, 25,  2],\n",
       "        [11,  4, 13]],\n",
       "\n",
       "       [[ 7, 81,  5],\n",
       "        [ 6, 11, 12]]])"
      ]
     },
     "execution_count": 25,
     "metadata": {},
     "output_type": "execute_result"
    }
   ],
   "source": [
    "#Reshape the 'sortedArray' array, into a new array called 'reshapedArray', so it has 2 dimensions with a size of 2, 3.\n",
    "reshapedArray=sortedArray.reshape(2,2,3)\n",
    "reshapedArray"
   ]
  },
  {
   "cell_type": "code",
   "execution_count": 31,
   "metadata": {},
   "outputs": [
    {
     "name": "stdout",
     "output_type": "stream",
     "text": [
      "The four variables are \n",
      " c= [16 25  2] \n",
      " d= [11  4 13] \n",
      " e= [ 7 81  5] \n",
      " f= [ 6 11 12]\n"
     ]
    }
   ],
   "source": [
    "# 14 Unpack the array tuples from the above 'reshapedArray' into 4 well named variables. Print the 4 variables.\n",
    "a,b=reshapedArray\n",
    "c,d=a\n",
    "e,f=b\n",
    "print(\"The four variables are \\n\",\"c=\",c,'\\n',\"d=\",d,'\\n',\"e=\",e,'\\n',\"f=\",f)"
   ]
  },
  {
   "cell_type": "code",
   "execution_count": 44,
   "metadata": {},
   "outputs": [
    {
     "name": "stdout",
     "output_type": "stream",
     "text": [
      "[ 0  1  2  3  4  5  6  7 10 11 12 13 14 15 16 17 20 21 22 23 24 25 26 27]\n"
     ]
    }
   ],
   "source": [
    "# 15 Combined and sort the following arrays into one called 'comboArray' ...\n",
    "one = ([10, 11, 12, 13, 14, 15, 16, 17])\n",
    "two = ([20, 21, 22, 23, 24, 25, 26, 27])\n",
    "three = ([ 0, 1, 2, 3, 4, 5, 6, 7])\n",
    "new=np.concatenate((one,two,three))\n",
    "comboArray=np.sort(new)\n",
    "print(comboArray)"
   ]
  },
  {
   "cell_type": "code",
   "execution_count": 57,
   "metadata": {},
   "outputs": [
    {
     "name": "stdout",
     "output_type": "stream",
     "text": [
      "sec1 - the 2nd element\n",
      "1\n",
      "sec2 - all elements from the 3rd element to the last\n",
      "[ 2  3  4  5  6  7 10 11 12 13 14 15 16 17 20 21 22 23 24 25 26 27]\n",
      "sec3 - all elements from the 4th to the 14th elements\n",
      "[ 3  4  5  6  7 10 11 12 13 14 15]\n",
      "sec4 - the last 6 elements\n",
      "[22 23 24 25 26 27]\n",
      "sec5 - all element from #0 up to and including #15, using the negative number method, i.e. taking a section from the end.\n",
      "[ 0  1  2  3  4  5  6  7 10 11 12 13 14 15 16 17 20 21 22 23 24 25 26 27]\n",
      "sec6 - from #20 every even element to the end\n",
      "[24 26]\n",
      "sec7 - from the last element moving forward, every 5th element.\n",
      "[27 22 15 10  3]\n"
     ]
    }
   ],
   "source": [
    "# 16 Take 'comboArray' and perform the following slicing activities:\n",
    "\n",
    "print(\"sec1 - the 2nd element\")\n",
    "print(comboArray[1])\n",
    "print(\"sec2 - all elements from the 3rd element to the last\")\n",
    "print(comboArray[2:])\n",
    "print(\"sec3 - all elements from the 4th to the 14th elements\")\n",
    "print(comboArray[3:14])\n",
    "print(\"sec4 - the last 6 elements\")\n",
    "print(comboArray[-6:])\n",
    "print(\"sec5 - all element from #0 up to and including #15, using the negative number method, i.e. taking a section from the end.\")\n",
    "print(comboArray[-28:])\n",
    "print(\"sec6 - from #20 every even element to the end\")\n",
    "print(comboArray[20:28:2])\n",
    "print(\"sec7 - from the last element moving forward, every 5th element.\")\n",
    "print(-np.sort(-comboArray)[0:28:5])"
   ]
  },
  {
   "cell_type": "code",
   "execution_count": null,
   "metadata": {},
   "outputs": [],
   "source": [
    "# 20 Using Series, create a DataFrame that looks like this:"
   ]
  },
  {
   "cell_type": "code",
   "execution_count": null,
   "metadata": {},
   "outputs": [],
   "source": [
    "# 21 Using Series, create a DataFrame that looks like this:\n",
    "df= {'Name': ['Jai', 'janusha', 'Gaurav', 'Anuj'],\n",
    "        'Height': [5.1, 6.2, 5.1, 5.2],\n",
    "        'Qualification': ['Msc', 'MA', 'Msc', 'Msc'],\n",
    "        'address': ['Delhi', 'Doha', 'Chennai', 'Dakhar'],\n",
    "        'Age': [21, 23, 24, 21],\n",
    "        'Pets': ['Dog', 'Bunny', 'Chinchilla', 'Parrot'],\n",
    "        'sport': ['Darts', 'Basketball', 'PaddleBoarding', 'Cricket']\n",
    "    }"
   ]
  },
  {
   "cell_type": "code",
   "execution_count": null,
   "metadata": {},
   "outputs": [],
   "source": [
    "# 22 Add a new column to the DataFrame with the following deserts: \n",
    "# [\"ice cream\", \"Cashew Fudge\", \"waffels\", \"Carrot Halwa\"]"
   ]
  },
  {
   "cell_type": "code",
   "execution_count": null,
   "metadata": {},
   "outputs": [],
   "source": [
    "# 23 Sort the 'studentData' DataFrame in Ascending order -- Sorting by column 'Name' and then \"address\""
   ]
  },
  {
   "cell_type": "code",
   "execution_count": null,
   "metadata": {},
   "outputs": [],
   "source": [
    "# 24 Save this DataFrame here below to disc as a .CSV file with the name cows_and_goats.csv:\n",
    "df = pd.DataFrame({'Cows': [12, 20], 'Goats': [22, 19]}, index=['Year 1', 'Year 2'])"
   ]
  },
  {
   "cell_type": "code",
   "execution_count": null,
   "metadata": {},
   "outputs": [],
   "source": [
    "# 25 (A) Using Pandas, make your own .CSV file with data on vegetables and save it. \n",
    "# (B) Using Pandas, make a change to your CSV file, and save a copy with a different name."
   ]
  }
 ],
 "metadata": {
  "kernelspec": {
   "display_name": "Python 3 (ipykernel)",
   "language": "python",
   "name": "python3"
  },
  "language_info": {
   "codemirror_mode": {
    "name": "ipython",
    "version": 3
   },
   "file_extension": ".py",
   "mimetype": "text/x-python",
   "name": "python",
   "nbconvert_exporter": "python",
   "pygments_lexer": "ipython3",
   "version": "3.11.3"
  }
 },
 "nbformat": 4,
 "nbformat_minor": 2
}
