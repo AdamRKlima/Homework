{
 "cells": [
  {
   "attachments": {},
   "cell_type": "markdown",
   "metadata": {},
   "source": [
    "### 1. What does Pandas stand for?\n",
    "#####\n",
    "### 2. What are the 2 collections used in Pandas?\n",
    "#####\n",
    "### 3. Name 4 things Pandas can do for us.\n",
    "#####\n",
    "### 4. To permanently sort a DataFrame, which keyword should one use with the `df.sort()` method?\n",
    "#####\n",
    "### 5. What is a CSV\n",
    "#####\n",
    "### 6. When cleaning data what values do we not like in our data?\n",
    "#####\n"
   ]
  },
  {
   "cell_type": "code",
   "execution_count": 3,
   "metadata": {},
   "outputs": [
    {
     "name": "stdout",
     "output_type": "stream",
     "text": [
      "[[[0.36040377 0.05092494]\n",
      "  [0.73806246 0.27566888]\n",
      "  [0.30292447 0.93732493]]\n",
      "\n",
      " [[0.90116244 0.11810812]\n",
      "  [0.79606821 0.22303304]\n",
      "  [0.93304279 0.2723093 ]]]\n"
     ]
    }
   ],
   "source": [
    "# Do NOT do questions 10, 17, 18, 19.\n",
    "# 7 Import NumPy, use one of the NumPy methods and create an array with a shape of ... (2, 3, 2). You can use the reshape method -- .reshape()\n",
    "import numpy as np\n",
    "import pandas as pd\n",
    "a1=np.random.rand(2,3,2)\n",
    "print(a1)"
   ]
  },
  {
   "cell_type": "code",
   "execution_count": null,
   "metadata": {},
   "outputs": [],
   "source": [
    "# 8 Use NumPy .linspace() to create an array with 6 linearly spaced values between 0 and 20"
   ]
  },
  {
   "cell_type": "code",
   "execution_count": null,
   "metadata": {},
   "outputs": [],
   "source": [
    "# 9 Make a Deep Copy of the above array"
   ]
  },
  {
   "cell_type": "code",
   "execution_count": 5,
   "metadata": {},
   "outputs": [
    {
     "name": "stdout",
     "output_type": "stream",
     "text": [
      "[[25 16]\n",
      " [11  2]\n",
      " [13  4]\n",
      " [ 7 81]\n",
      " [ 5  6]\n",
      " [11 12]]\n"
     ]
    }
   ],
   "source": [
    "# 11 Concatenate these 3 arrays into a new array named 'newArray'...\n",
    "a =np.array([[25, 16]])\n",
    "b=np.array([[11, 2], [13, 4]])\n",
    "c=np.array([[7, 81], [5, 6], [11, 12]])\n",
    "newArray=np.concatenate((a,b,c),axis=0)\n",
    "print(newArray)\n",
    "\n"
   ]
  },
  {
   "cell_type": "code",
   "execution_count": 6,
   "metadata": {},
   "outputs": [
    {
     "name": "stdout",
     "output_type": "stream",
     "text": [
      "[[16 25]\n",
      " [ 2 11]\n",
      " [ 4 13]\n",
      " [ 7 81]\n",
      " [ 5  6]\n",
      " [11 12]]\n"
     ]
    }
   ],
   "source": [
    "# 12 Sort 'newArray' in order into 'sortedArray'\n",
    "sortedArray=np.sort(newArray)\n",
    "print(sortedArray)"
   ]
  },
  {
   "cell_type": "code",
   "execution_count": 7,
   "metadata": {},
   "outputs": [
    {
     "ename": "ValueError",
     "evalue": "too many values to unpack (expected 2)",
     "output_type": "error",
     "traceback": [
      "\u001b[1;31m---------------------------------------------------------------------------\u001b[0m",
      "\u001b[1;31mValueError\u001b[0m                                Traceback (most recent call last)",
      "Cell \u001b[1;32mIn[7], line 2\u001b[0m\n\u001b[0;32m      1\u001b[0m \u001b[39m#Reshape the 'sortedArray' array, into a new array called 'reshapedArray', so it has 2 dimensions with a size of 2, 3.\u001b[39;00m\n\u001b[1;32m----> 2\u001b[0m a,b\u001b[39m=\u001b[39msortedArray\n",
      "\u001b[1;31mValueError\u001b[0m: too many values to unpack (expected 2)"
     ]
    }
   ],
   "source": [
    "#Reshape the 'sortedArray' array, into a new array called 'reshapedArray', so it has 2 dimensions with a size of 2, 3.\n",
    "a,b=sortedArray"
   ]
  },
  {
   "cell_type": "code",
   "execution_count": null,
   "metadata": {},
   "outputs": [],
   "source": [
    "# 14 Unpack the array tuples from the above 'reshapedArray' into 4 well named variables. Print the 4 variables."
   ]
  },
  {
   "cell_type": "code",
   "execution_count": null,
   "metadata": {},
   "outputs": [],
   "source": [
    "# 15 Combined and sort the following arrays into one called 'comboArray' ...\n",
    "\n",
    "one = ([10, 11, 12, 13, 14, 15, 16, 17])\n",
    "two = ([20, 21, 22, 23, 24, 25, 26, 27])\n",
    "three = ([ 0, 1, 2, 3, 4, 5, 6, 7])"
   ]
  },
  {
   "cell_type": "code",
   "execution_count": null,
   "metadata": {},
   "outputs": [],
   "source": [
    "\"\"\" 16 Take 'comboArray' and perform the following slicing activities:\n",
    "\n",
    "print sec1 - the 2nd element\n",
    "print sec2 - all elements from the 3rd element to the last\n",
    "print sec3 - all elements from the 4th to the 14th elements\n",
    "print sec4 - the last 6 elements\n",
    "print sec5 - all element from #0 up to and including #15, using the negative number method, i.e. taking a section from the end.\n",
    "print sec6 - from #20 every even element to the end\n",
    "print sec7 - from the last element moving forward, every 5th element.\n",
    "\"\"\" "
   ]
  }
 ],
 "metadata": {
  "kernelspec": {
   "display_name": "Python 3 (ipykernel)",
   "language": "python",
   "name": "python3"
  },
  "language_info": {
   "codemirror_mode": {
    "name": "ipython",
    "version": 3
   },
   "file_extension": ".py",
   "mimetype": "text/x-python",
   "name": "python",
   "nbconvert_exporter": "python",
   "pygments_lexer": "ipython3",
   "version": "3.11.3"
  }
 },
 "nbformat": 4,
 "nbformat_minor": 2
}
