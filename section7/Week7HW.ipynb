{
 "cells": [
  {
   "attachments": {},
   "cell_type": "markdown",
   "metadata": {},
   "source": [
    "# 7.1"
   ]
  },
  {
   "cell_type": "code",
   "execution_count": null,
   "metadata": {
    "vscode": {
     "languageId": "sql"
    }
   },
   "outputs": [],
   "source": [
    "--Using EVregistry, Write a query to select the ModelYear, Make, and Model off all of the vehicles in the registry.\n",
    "SELECT\n",
    "\tModelYear,\n",
    "\tMake,\n",
    "\tModel\n",
    "FROM EVRegistry"
   ]
  },
  {
   "cell_type": "code",
   "execution_count": null,
   "metadata": {
    "vscode": {
     "languageId": "sql"
    }
   },
   "outputs": [],
   "source": [
    "--Using the EVRegistry table, Write a query that lists all of the unique types of EV's. your reult set should have one column, ElectricVehicleType.\n",
    "SELECT DISTINCT ElectricVehicleType\n",
    "FROM EVRegistry"
   ]
  },
  {
   "cell_type": "code",
   "execution_count": null,
   "metadata": {
    "vscode": {
     "languageId": "sql"
    }
   },
   "outputs": [],
   "source": [
    "-- 3 Using the EVRegistry, Write a query that shows all of the information on Battery Electric Vehicles (BEV) that are in the registry.\n",
    "SELECT *\n",
    "FROM EVRegistry\n",
    "WHERE ElectricVehicleType like '%BEV%'"
   ]
  },
  {
   "cell_type": "code",
   "execution_count": null,
   "metadata": {
    "vscode": {
     "languageId": "sql"
    }
   },
   "outputs": [],
   "source": [
    "-- 4 Using the EVRegistry, wirte a query that returns the Make and Model of all of the EV's that have a BaseMSRP between 20000 and 35000?\n",
    "SELECT Make, Model\n",
    "FROM EVRegistry\n",
    "WHERE BaseMSRP > 20000 and BaseMSRP <35000\n",
    "ORDER by make ASC"
   ]
  },
  {
   "attachments": {},
   "cell_type": "markdown",
   "metadata": {},
   "source": [
    "# 7.2"
   ]
  },
  {
   "cell_type": "code",
   "execution_count": null,
   "metadata": {
    "vscode": {
     "languageId": "sql"
    }
   },
   "outputs": [],
   "source": [
    "-- 1Using EVRegistry, write a query to find a record where the City attribute is NULL. Return all of the available columns.\n",
    "SELECT *\n",
    "from EVRegistry\n",
    "WHERE City is NULL"
   ]
  },
  {
   "cell_type": "code",
   "execution_count": null,
   "metadata": {
    "vscode": {
     "languageId": "sql"
    }
   },
   "outputs": [],
   "source": [
    "-- 2 Write a query to find the make, model, and ElectricVehicleType where the VIN number has that ends in '3E1EA1J'.\n",
    "SELECT \n",
    "\tmake,\n",
    "\tModel,\n",
    "\tElectricVehicleType\n",
    "FROM EVRegistry\n",
    "WHERE VIN like '%3E1Ea1J'"
   ]
  },
  {
   "cell_type": "code",
   "execution_count": null,
   "metadata": {
    "vscode": {
     "languageId": "sql"
    }
   },
   "outputs": [],
   "source": [
    "-- Select the ModelYear, make, model, ElectricVehicleType, and range of the Tesla vehicles or cheverolet vehicles in the registry. Order the result set by Make and Model year in from newest to oldest.\n",
    "SELECT\n",
    "\tModelYear,\n",
    "\tMake,\n",
    "\tModel,\n",
    "\tElectricVehicleType,\n",
    "\tElectricRange\n",
    "FROM EVRegistry\n",
    "WHERE Make = 'TESLA' or MAKE = 'CHEVROLET'\n",
    "ORDER by Make, ModelYear DESC"
   ]
  },
  {
   "cell_type": "code",
   "execution_count": null,
   "metadata": {
    "vscode": {
     "languageId": "sql"
    }
   },
   "outputs": [],
   "source": [
    "--4 Using EVCharging, Write a query to find out how many many times those stations were used. Order them by the most used to the least used and limit the output to 5 records.\n",
    "SELECT stationId, count(sessionId) as 'NumofCharges'\n",
    "FROM EVCharging\n",
    "GROUP by stationId\n",
    "ORDER by count(sessionId) DESC\n",
    "LIMIT 5"
   ]
  },
  {
   "cell_type": "code",
   "execution_count": null,
   "metadata": {
    "vscode": {
     "languageId": "sql"
    }
   },
   "outputs": [],
   "source": [
    "-- 5 Using EVCharging, For the folks who charged longer than 0.5 hours, show the min and max of the charging time for each user. Your output columns should be userid, minTime, and maxTime. Order this result set by the last two columns respectively.\n",
    "SELECT\n",
    "\tuserId,\n",
    "\tmin(chargeTimeHrs) as 'minTime',\n",
    "\tmax(chargeTimeHrs) as 'maxTime'\n",
    "from EVCharging\n",
    "WHERE chargeTimeHrs > .5\n",
    "GROUP by userId\n",
    "ORDER by 2,3"
   ]
  },
  {
   "attachments": {},
   "cell_type": "markdown",
   "metadata": {},
   "source": [
    "# 7.3"
   ]
  },
  {
   "cell_type": "code",
   "execution_count": null,
   "metadata": {
    "vscode": {
     "languageId": "sql"
    }
   },
   "outputs": [],
   "source": [
    "-- 1 Using EVCharging, Which day of the week has the highest average charging time? Round the answer to 2 decimal points.\n",
    "SELECT weekday, round(avg(chargeTimeHrs),2)\n",
    "FROM EVCharging\n",
    "GROUP by weekday\n",
    "ORDER by avg(chargeTimeHrs) DESC\n",
    "LIMIT 1\n"
   ]
  },
  {
   "cell_type": "code",
   "execution_count": null,
   "metadata": {
    "vscode": {
     "languageId": "sql"
    }
   },
   "outputs": [],
   "source": [
    "-- 2 Using, EV charging, Find the total power consumed from charging EV's by each User. Return the userId and name the calculated column, totalPower. Round the answer to 2 deciaml points and list the out put in highest to lowest order. Limit the order to the top 15 users.\n",
    "SELECT userId, round(sum(kwhTotal), 2) as 'totalPower'\n",
    "FROM EVCharging\n",
    "GROUP by userId\n",
    "order by 2 DESC\n",
    "limit 15"
   ]
  },
  {
   "cell_type": "code",
   "execution_count": null,
   "metadata": {
    "vscode": {
     "languageId": "sql"
    }
   },
   "outputs": [],
   "source": [
    "-- 3 Using dimfacility and factCharge, write a query to find out which type of facility (GROUP BY) has the most amount of charging stations. Return type Facility and name the calculated column numStation. Order the result set from highest to lowest number of charging stations.\n",
    "SELECT \n",
    "\tdf.FacilityKey,\n",
    "\tdf.typeFacility,\n",
    "\tcount(DISTINCT fc.stationId) as 'numStations'\n",
    "FROM dimFacility df\n",
    "INNER JOIN factCharge fc\n",
    "on df.FacilityKey = fc. facilityID\n",
    "group by df.FacilityKey\n",
    "order by 3 DESC"
   ]
  },
  {
   "attachments": {},
   "cell_type": "markdown",
   "metadata": {},
   "source": [
    "### 4 In your own words, Briefly explain Primary Keys and Foreign Keys.\n",
    "##### A primary key is one or more columns, that do not include null values. They are unique and used to join two or more tables in SQL.  It is located on the original database\n",
    "##### A foreign key is data that refers to a primary key from another database or table"
   ]
  },
  {
   "cell_type": "code",
   "execution_count": null,
   "metadata": {
    "vscode": {
     "languageId": "sql"
    }
   },
   "outputs": [],
   "source": [
    "-- 5 Using EV Charging, For the folks who charged longer than one hour, show the min and max of the charging time for each user. Your output columns should be userid, minTime, and maxTime. Order this result set by the last two columns respectively. HINT: USE HAVING\n",
    "SELECT \n",
    "\tuserId,\n",
    "\tmin(chargeTimeHrs) as 'minTime',\n",
    "\tmax(chargeTimeHrs) as 'maxTime'\n",
    "FROM EVCharging\n",
    "GROUP by userId\n",
    "HAVING chargeTimeHrs > 1\n",
    "ORDER by 2,3"
   ]
  }
 ],
 "metadata": {
  "language_info": {
   "name": "python"
  },
  "orig_nbformat": 4
 },
 "nbformat": 4,
 "nbformat_minor": 2
}
