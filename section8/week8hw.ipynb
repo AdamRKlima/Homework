{
 "cells": [
  {
   "cell_type": "code",
   "execution_count": null,
   "metadata": {},
   "outputs": [],
   "source": [
    "import requests\n",
    "from dotenv import load_dotenv \n",
    "import pandas as pd \n",
    "import json \n",
    "import os\n",
    "\n",
    "load_dotenv()\n",
    "\n",
    "api_key=os.getenv()\n",
    "\n"
   ]
  }
 ],
 "metadata": {
  "language_info": {
   "name": "python"
  },
  "orig_nbformat": 4
 },
 "nbformat": 4,
 "nbformat_minor": 2
}
