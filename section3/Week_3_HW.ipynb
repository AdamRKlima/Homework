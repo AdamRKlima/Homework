{
 "cells": [
  {
   "attachments": {},
   "cell_type": "markdown",
   "id": "8537aa62",
   "metadata": {},
   "source": [
    "#### What is an Algorithm -\n",
    "###### Series of steps intended to solve a problem\n",
    "#### What can a variable name NOT start with, two examples - \n",
    "###### Variable names can only start with letters or an underscore. 5 and 6 are examples of what you cannot start with\n",
    "#### What is a Semantic Error\n",
    "###### Code is gramatically correct, but it doesn't make sense, and does not return the intended resut\n",
    "#### What is the first rule of coding and debugging -\n",
    "###### Regularly check and debug code\n",
    "#### List 5 Python reserved words - \n",
    "###### Print, List, and, or, if"
   ]
  },
  {
   "cell_type": "code",
   "execution_count": 9,
   "id": "58288ac0",
   "metadata": {},
   "outputs": [
    {
     "name": "stdout",
     "output_type": "stream",
     "text": [
      "My name is Adam Klima\n",
      "The length is 21\n",
      "The fourth charecter is n\n",
      "ing Data Analytics\n",
      "Learning Data Analytics and Python is great!\n",
      "Python is in savvy\n",
      "{'Hi my name is Adam, I am 5 foot, 11 inches and 34 old today.'}\n",
      "34.0\n"
     ]
    }
   ],
   "source": [
    "# 3.1 Homework\n",
    "\n",
    "\"\"\"Adam Klima\n",
    "Grilled Chicken Sandwich\n",
    "Scrum Master\"\"\"\n",
    "\n",
    "var = [1, 2, 3, 4] #list\n",
    "\n",
    "# print (var)\n",
    "\n",
    "var1 = 3 #int\n",
    "\n",
    "#print (var1)\n",
    "\n",
    "\n",
    "var2 = \"My name is Adam Klima\" #str\n",
    "\n",
    "a = len(var2)\n",
    "\n",
    "print (var2)\n",
    "print (\"The length is\", a)  \n",
    "print (\"The fourth charecter is\", var2[3])\n",
    "\n",
    "\n",
    "var3 = (3.1) #float\n",
    "\n",
    "#print (var3)\n",
    "\n",
    "\n",
    "var4 = (\"fruit\", \"veggies\", \"protien\") #tuple\n",
    "\n",
    "#print (var4)\n",
    "\n",
    "\n",
    "savvy = 'Learning Data Analytics and Python is Awesome!'\n",
    "\n",
    "# 5:23\n",
    "print (savvy[5:23])\n",
    "\n",
    "\n",
    "savvy2 = savvy.replace (\"Awesome\", \"great\")\n",
    "\n",
    "print (savvy2)\n",
    "\n",
    "\n",
    "\n",
    "if \"Python\" in savvy :\n",
    "    print (\"Python is in savvy\")\n",
    "elif \"Python\" not in savvy :\n",
    "    print (\"Python is not in savvy\")\n",
    "    quit ()\n",
    "\n",
    "\n",
    "\n",
    "name, age, length = \"Adam\", \"34\", \"5 foot, 11 inches\"\n",
    "\n",
    "minibio = {\"Hi my name is \" + name + \", I am \" + length + \" and \" + age + \" old today.\"}\n",
    "\n",
    "print (minibio)\n",
    "\n",
    "ag = float(age)\n",
    "\n",
    "print (ag)"
   ]
  },
  {
   "cell_type": "code",
   "execution_count": 11,
   "id": "7466e5ee",
   "metadata": {},
   "outputs": [
    {
     "name": "stdout",
     "output_type": "stream",
     "text": [
      "False\n"
     ]
    }
   ],
   "source": []
  }
 ],
 "metadata": {
  "kernelspec": {
   "display_name": "Python 3",
   "language": "python",
   "name": "python3"
  },
  "language_info": {
   "codemirror_mode": {
    "name": "ipython",
    "version": 3
   },
   "file_extension": ".py",
   "mimetype": "text/x-python",
   "name": "python",
   "nbconvert_exporter": "python",
   "pygments_lexer": "ipython3",
   "version": "3.11.3"
  }
 },
 "nbformat": 4,
 "nbformat_minor": 5
}
